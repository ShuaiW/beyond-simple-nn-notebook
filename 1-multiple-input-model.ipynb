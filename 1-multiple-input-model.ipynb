{
 "cells": [
  {
   "cell_type": "markdown",
   "metadata": {},
   "source": [
    "# 1. Multiple-input model\n",
    "\n",
    "This notebook provides an example of building a neural net with multiple inputs. Specifically, we are training a digit recognizer with half of the image as input 1, and the other half as input 2.\n",
    "\n",
    "**Warning**: In practice you probably don't want to split an image into two halves. Here we just illustrate how to build a neural net with multiple inputs.\n",
    "\n",
    "---\n",
    "\n",
    "We first load the MNIST data"
   ]
  },
  {
   "cell_type": "code",
   "execution_count": 1,
   "metadata": {
    "collapsed": false
   },
   "outputs": [
    {
     "name": "stderr",
     "output_type": "stream",
     "text": [
      "Using TensorFlow backend.\n"
     ]
    }
   ],
   "source": [
    "from keras.datasets import mnist\n",
    "\n",
    "(train_images, train_labels), (test_images, test_labels) = mnist.load_data()"
   ]
  },
  {
   "cell_type": "markdown",
   "metadata": {},
   "source": [
    "We preprocess the image as previously"
   ]
  },
  {
   "cell_type": "code",
   "execution_count": 2,
   "metadata": {
    "collapsed": false
   },
   "outputs": [],
   "source": [
    "from utils import preprocess\n",
    "\n",
    "train_images = preprocess(train_images)\n",
    "test_images = preprocess(test_images)"
   ]
  },
  {
   "cell_type": "markdown",
   "metadata": {},
   "source": [
    "We also need to one-hot encode the labels"
   ]
  },
  {
   "cell_type": "code",
   "execution_count": 3,
   "metadata": {
    "collapsed": true
   },
   "outputs": [],
   "source": [
    "from keras.utils import to_categorical\n",
    "\n",
    "train_labels = to_categorical(train_labels)\n",
    "test_labels = to_categorical(test_labels)"
   ]
  },
  {
   "cell_type": "markdown",
   "metadata": {},
   "source": [
    "Then we need to split each image into two halves: one half to be used as input stream 1, while the other half to be used as input stream 2"
   ]
  },
  {
   "cell_type": "code",
   "execution_count": 4,
   "metadata": {
    "collapsed": true
   },
   "outputs": [],
   "source": [
    "mid = 14 # the image is 28 x 28\n",
    "train_1 = train_images[:, :mid, :, :]\n",
    "train_2 = train_images[:, mid:, :, :]"
   ]
  },
  {
   "cell_type": "markdown",
   "metadata": {},
   "source": [
    "We can construct our neural networks now"
   ]
  },
  {
   "cell_type": "code",
   "execution_count": 5,
   "metadata": {
    "collapsed": true
   },
   "outputs": [],
   "source": [
    "from keras import layers\n",
    "from keras import Input\n",
    "from keras.models import Model"
   ]
  },
  {
   "cell_type": "markdown",
   "metadata": {},
   "source": [
    "Construct stream 1"
   ]
  },
  {
   "cell_type": "code",
   "execution_count": 6,
   "metadata": {
    "collapsed": false,
    "scrolled": true
   },
   "outputs": [],
   "source": [
    "input_1 = Input(shape=(mid, 28, 1))\n",
    "stream_1 = layers.Conv2D(32, (3, 3), activation='relu')(input_1)\n",
    "stream_1 = layers.MaxPool2D(2, 2)(stream_1)\n",
    "stream_1 = layers.Conv2D(64, (3, 3), activation='relu')(stream_1)\n",
    "stream_1 = layers.MaxPool2D(2, 2)(stream_1)"
   ]
  },
  {
   "cell_type": "markdown",
   "metadata": {},
   "source": [
    "Construct stream 2"
   ]
  },
  {
   "cell_type": "code",
   "execution_count": 7,
   "metadata": {
    "collapsed": false
   },
   "outputs": [],
   "source": [
    "input_2 = Input(shape=(mid, 28, 1))\n",
    "stream_2 = layers.Conv2D(32, (3, 3), activation='relu')(input_2)\n",
    "stream_2 = layers.MaxPool2D(2, 2)(stream_2)\n",
    "stream_2 = layers.Conv2D(64, (3, 3), activation='relu')(stream_2)\n",
    "stream_2 = layers.MaxPool2D(2, 2)(stream_2)"
   ]
  },
  {
   "cell_type": "markdown",
   "metadata": {},
   "source": [
    "Concatenate the two streams"
   ]
  },
  {
   "cell_type": "code",
   "execution_count": 8,
   "metadata": {
    "collapsed": true
   },
   "outputs": [],
   "source": [
    "concat = layers.concatenate([stream_1, stream_2])"
   ]
  },
  {
   "cell_type": "markdown",
   "metadata": {},
   "source": [
    "Flatten and add dense layers on top"
   ]
  },
  {
   "cell_type": "code",
   "execution_count": 9,
   "metadata": {
    "collapsed": true
   },
   "outputs": [],
   "source": [
    "output = layers.Flatten()(concat)\n",
    "output = layers.Dense(64, activation='relu')(output)\n",
    "output = layers.Dense(10, activation='softmax')(output)"
   ]
  },
  {
   "cell_type": "markdown",
   "metadata": {},
   "source": [
    "Instantiate the model with 2 inputs and 1 output, and compile the model"
   ]
  },
  {
   "cell_type": "code",
   "execution_count": 10,
   "metadata": {
    "collapsed": false
   },
   "outputs": [],
   "source": [
    "model = Model([input_1, input_2], output)\n",
    "model.compile(optimizer='rmsprop',\n",
    "              loss='categorical_crossentropy',\n",
    "              metrics=['accuracy'])"
   ]
  },
  {
   "cell_type": "markdown",
   "metadata": {},
   "source": [
    "Train model"
   ]
  },
  {
   "cell_type": "code",
   "execution_count": 11,
   "metadata": {
    "collapsed": false,
    "scrolled": true
   },
   "outputs": [
    {
     "name": "stdout",
     "output_type": "stream",
     "text": [
      "Epoch 1/5\n",
      "60000/60000 [==============================] - 42s - loss: 0.1991 - acc: 0.9389    \n",
      "Epoch 2/5\n",
      "60000/60000 [==============================] - 40s - loss: 0.0649 - acc: 0.9796    \n",
      "Epoch 3/5\n",
      "60000/60000 [==============================] - 38s - loss: 0.0465 - acc: 0.9856    \n",
      "Epoch 4/5\n",
      "60000/60000 [==============================] - 42s - loss: 0.0357 - acc: 0.9892    \n",
      "Epoch 5/5\n",
      "60000/60000 [==============================] - 41s - loss: 0.0289 - acc: 0.9910    \n"
     ]
    },
    {
     "data": {
      "text/plain": [
       "<keras.callbacks.History at 0x12036e310>"
      ]
     },
     "execution_count": 11,
     "metadata": {},
     "output_type": "execute_result"
    }
   ],
   "source": [
    "model.fit([train_1, train_2], train_labels, epochs=5, batch_size=64)"
   ]
  },
  {
   "cell_type": "markdown",
   "metadata": {},
   "source": [
    "And test the model on unseen data"
   ]
  },
  {
   "cell_type": "code",
   "execution_count": 12,
   "metadata": {
    "collapsed": false
   },
   "outputs": [
    {
     "name": "stdout",
     "output_type": "stream",
     "text": [
      "10000/10000 [==============================] - 2s     \n"
     ]
    }
   ],
   "source": [
    "test_1 = test_images[:, :mid, :, :]\n",
    "test_2 = test_images[:, mid:, :, :]\n",
    "\n",
    "test_loss, test_acc = model.evaluate([test_1, test_2], test_labels)"
   ]
  },
  {
   "cell_type": "code",
   "execution_count": 13,
   "metadata": {
    "collapsed": false
   },
   "outputs": [
    {
     "data": {
      "text/plain": [
       "0.98770000000000002"
      ]
     },
     "execution_count": 13,
     "metadata": {},
     "output_type": "execute_result"
    }
   ],
   "source": [
    "test_acc"
   ]
  },
  {
   "cell_type": "markdown",
   "metadata": {},
   "source": [
    "Looks like the accuracy is comparable to simple neural net model, but the training time is 20% less.\n",
    "\n",
    "Again, don't take this result seriously - just want to illustrate how to build a multiple-input model."
   ]
  }
 ],
 "metadata": {
  "anaconda-cloud": {},
  "kernelspec": {
   "display_name": "Python [conda root]",
   "language": "python",
   "name": "conda-root-py"
  },
  "language_info": {
   "codemirror_mode": {
    "name": "ipython",
    "version": 2
   },
   "file_extension": ".py",
   "mimetype": "text/x-python",
   "name": "python",
   "nbconvert_exporter": "python",
   "pygments_lexer": "ipython2",
   "version": "2.7.9"
  }
 },
 "nbformat": 4,
 "nbformat_minor": 1
}
