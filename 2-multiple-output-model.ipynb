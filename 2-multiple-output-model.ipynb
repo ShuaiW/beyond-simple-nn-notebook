{
 "cells": [
  {
   "cell_type": "markdown",
   "metadata": {},
   "source": [
    "# 2. Multiple-output model\n",
    "\n",
    "This notebook provides an example of building a neural net with multiple outputs. Specifically, we are training two binary classifiers: one that classifies if a digit is odd or even, and the other classifies if a digital is smaller than 5.\n",
    "\n",
    "---\n",
    "\n",
    "We first load the MNIST data"
   ]
  },
  {
   "cell_type": "code",
   "execution_count": 1,
   "metadata": {
    "collapsed": false
   },
   "outputs": [
    {
     "name": "stderr",
     "output_type": "stream",
     "text": [
      "Using TensorFlow backend.\n"
     ]
    }
   ],
   "source": [
    "from keras.datasets import mnist\n",
    "\n",
    "(train_images, train_labels), (test_images, test_labels) = mnist.load_data()"
   ]
  },
  {
   "cell_type": "markdown",
   "metadata": {},
   "source": [
    "We preprocess the image as previously"
   ]
  },
  {
   "cell_type": "code",
   "execution_count": 2,
   "metadata": {
    "collapsed": false
   },
   "outputs": [],
   "source": [
    "from utils import preprocess\n",
    "\n",
    "train_images = preprocess(train_images)\n",
    "test_images = preprocess(test_images)"
   ]
  },
  {
   "cell_type": "markdown",
   "metadata": {},
   "source": [
    "We need to make labels for two classifiers. Notice we don't need to one-hot encode the labels in this case since we are building two binary classifiers using sigmoid actication in the last layer\n"
   ]
  },
  {
   "cell_type": "code",
   "execution_count": 3,
   "metadata": {
    "collapsed": false
   },
   "outputs": [],
   "source": [
    "# for odd-or-even classifier\n",
    "train_label_ooe = (train_labels % 2 == 0)\n",
    "test_label_ooe = (test_labels % 2 == 0)\n",
    "\n",
    "# for smaller-than-5 classifier\n",
    "train_label_st5 = (train_labels < 5)\n",
    "test_label_st5 = (test_labels < 5)"
   ]
  },
  {
   "cell_type": "markdown",
   "metadata": {},
   "source": [
    "We can construct our neural networks now"
   ]
  },
  {
   "cell_type": "code",
   "execution_count": 4,
   "metadata": {
    "collapsed": true
   },
   "outputs": [],
   "source": [
    "from keras import layers\n",
    "from keras import Input\n",
    "from keras.models import Model"
   ]
  },
  {
   "cell_type": "markdown",
   "metadata": {},
   "source": [
    "Construct the shared layers"
   ]
  },
  {
   "cell_type": "code",
   "execution_count": 5,
   "metadata": {
    "collapsed": false,
    "scrolled": true
   },
   "outputs": [],
   "source": [
    "inputs = Input(shape=(28, 28, 1))\n",
    "x = layers.Conv2D(32, (3, 3), activation='relu')(inputs)\n",
    "x = layers.MaxPool2D(2, 2)(x)\n",
    "x = layers.Conv2D(64, (3, 3), activation='relu')(x)\n",
    "x = layers.MaxPool2D(2, 2)(x)"
   ]
  },
  {
   "cell_type": "markdown",
   "metadata": {},
   "source": [
    "Construct two 'heads'"
   ]
  },
  {
   "cell_type": "code",
   "execution_count": 6,
   "metadata": {
    "collapsed": true
   },
   "outputs": [],
   "source": [
    "# odd-or-even head\n",
    "ooe = layers.Flatten()(x)\n",
    "ooe = layers.Dense(64, activation='relu')(ooe)\n",
    "ooe = layers.Dense(1, activation='sigmoid')(ooe)\n",
    "\n",
    "# smaller than 5 head\n",
    "st5 = layers.Flatten()(x)\n",
    "st5 = layers.Dense(64, activation='relu')(st5)\n",
    "st5 = layers.Dense(1, activation='sigmoid')(st5)"
   ]
  },
  {
   "cell_type": "markdown",
   "metadata": {},
   "source": [
    "Instantiate the model with 1 input and 2 outputs, and compile the model"
   ]
  },
  {
   "cell_type": "code",
   "execution_count": 7,
   "metadata": {
    "collapsed": false
   },
   "outputs": [],
   "source": [
    "model = Model(inputs, [ooe, st5])\n",
    "model.compile(optimizer='rmsprop',\n",
    "              loss=['binary_crossentropy', 'binary_crossentropy'], # a list of two losses\n",
    "              metrics=['accuracy'])"
   ]
  },
  {
   "cell_type": "markdown",
   "metadata": {},
   "source": [
    "Train model"
   ]
  },
  {
   "cell_type": "code",
   "execution_count": 8,
   "metadata": {
    "collapsed": false,
    "scrolled": true
   },
   "outputs": [
    {
     "name": "stdout",
     "output_type": "stream",
     "text": [
      "Epoch 1/5\n",
      "60000/60000 [==============================] - 62s - loss: 0.1935 - dense_2_loss: 0.0921 - dense_4_loss: 0.1013 - dense_2_acc: 0.9646 - dense_4_acc: 0.9609    \n",
      "Epoch 2/5\n",
      "60000/60000 [==============================] - 63s - loss: 0.0648 - dense_2_loss: 0.0305 - dense_4_loss: 0.0343 - dense_2_acc: 0.9895 - dense_4_acc: 0.9885    \n",
      "Epoch 3/5\n",
      "60000/60000 [==============================] - 62s - loss: 0.0448 - dense_2_loss: 0.0209 - dense_4_loss: 0.0238 - dense_2_acc: 0.9926 - dense_4_acc: 0.9915    \n",
      "Epoch 4/5\n",
      "60000/60000 [==============================] - 62s - loss: 0.0350 - dense_2_loss: 0.0162 - dense_4_loss: 0.0188 - dense_2_acc: 0.9946 - dense_4_acc: 0.9938    \n",
      "Epoch 5/5\n",
      "60000/60000 [==============================] - 64s - loss: 0.0287 - dense_2_loss: 0.0130 - dense_4_loss: 0.0157 - dense_2_acc: 0.9955 - dense_4_acc: 0.9950    \n"
     ]
    },
    {
     "data": {
      "text/plain": [
       "<keras.callbacks.History at 0x123661bd0>"
      ]
     },
     "execution_count": 8,
     "metadata": {},
     "output_type": "execute_result"
    }
   ],
   "source": [
    "model.fit(train_images, [train_label_ooe, train_label_st5], epochs=5, batch_size=64)"
   ]
  },
  {
   "cell_type": "markdown",
   "metadata": {},
   "source": [
    "And test the model on unseen data"
   ]
  },
  {
   "cell_type": "code",
   "execution_count": 9,
   "metadata": {
    "collapsed": false
   },
   "outputs": [
    {
     "name": "stdout",
     "output_type": "stream",
     "text": [
      " 9952/10000 [============================>.] - ETA: 0s"
     ]
    }
   ],
   "source": [
    "metrics = model.evaluate(test_images, [test_label_ooe, test_label_st5])"
   ]
  },
  {
   "cell_type": "markdown",
   "metadata": {},
   "source": [
    "Note that we have 3 losses (two seperate and one combined) and 2 accuracies (the last two elements in the list)"
   ]
  },
  {
   "cell_type": "code",
   "execution_count": 10,
   "metadata": {
    "collapsed": false
   },
   "outputs": [
    {
     "data": {
      "text/plain": [
       "[0.99550000000000005, 0.9929]"
      ]
     },
     "execution_count": 10,
     "metadata": {},
     "output_type": "execute_result"
    }
   ],
   "source": [
    "metrics[-2:]"
   ]
  },
  {
   "cell_type": "markdown",
   "metadata": {},
   "source": [
    "The two classifiers did equally good!"
   ]
  }
 ],
 "metadata": {
  "anaconda-cloud": {},
  "kernelspec": {
   "display_name": "Python [conda root]",
   "language": "python",
   "name": "conda-root-py"
  },
  "language_info": {
   "codemirror_mode": {
    "name": "ipython",
    "version": 2
   },
   "file_extension": ".py",
   "mimetype": "text/x-python",
   "name": "python",
   "nbconvert_exporter": "python",
   "pygments_lexer": "ipython2",
   "version": "2.7.9"
  }
 },
 "nbformat": 4,
 "nbformat_minor": 1
}
